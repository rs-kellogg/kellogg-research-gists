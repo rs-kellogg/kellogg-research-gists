{
 "cells": [
  {
   "cell_type": "code",
   "execution_count": null,
   "metadata": {},
   "outputs": [],
   "source": [
    "# These packages need t obe installed\n",
    "# import sys\n",
    "# !{sys.executable} -m pip install --user pandas\n",
    "# !{sys.executable} -m pip install --user sqlalchemy\n",
    "# !{sys.executable} -m pip install --user pymssql\n",
    "# !{sys.executable} -m pip install --user pyodbc"
   ]
  },
  {
   "cell_type": "code",
   "execution_count": 2,
   "metadata": {},
   "outputs": [],
   "source": [
    "import pandas as pd\n",
    "import getpass as gp\n",
    "import pyodbc\n",
    "\n",
    "from sqlalchemy import create_engine\n",
    "from urllib.parse import quote\n",
    "from datetime import datetime as dt"
   ]
  },
  {
   "cell_type": "code",
   "execution_count": 3,
   "metadata": {},
   "outputs": [
    {
     "name": "stdout",
     "output_type": "stream",
     "text": [
      "Enter your netid: \n",
      "wkt406\n",
      "Enter your netid password: \n",
      "········\n"
     ]
    }
   ],
   "source": [
    "print(\"Enter your netid: \")\n",
    "netid = input()\n",
    "print(\"Enter your netid password: \")\n",
    "pwd = gp.getpass()"
   ]
  },
  {
   "cell_type": "code",
   "execution_count": 7,
   "metadata": {},
   "outputs": [
    {
     "name": "stdout",
     "output_type": "stream",
     "text": [
      "('LLMA', 'dbo', 'Performance', 'BASE TABLE')\n"
     ]
    }
   ],
   "source": [
    "conn = pyodbc.connect(f\"DSN=kdc-tds;Database=LLMA;UID=kellogg\\\\{netid};PWD={pwd}\")\n",
    "cursor = cnxn.cursor() \n",
    "cursor.execute(\"select * from information_schema.tables\") \n",
    "row = cursor.fetchone() \n",
    "print(row)\n",
    "conn.close()"
   ]
  }
 ],
 "metadata": {
  "kernelspec": {
   "display_name": "Python 3",
   "language": "python",
   "name": "python3"
  },
  "language_info": {
   "codemirror_mode": {
    "name": "ipython",
    "version": 3
   },
   "file_extension": ".py",
   "mimetype": "text/x-python",
   "name": "python",
   "nbconvert_exporter": "python",
   "pygments_lexer": "ipython3",
   "version": "3.9.1"
  }
 },
 "nbformat": 4,
 "nbformat_minor": 4
}
